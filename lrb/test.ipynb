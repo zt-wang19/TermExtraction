{
 "cells": [
  {
   "cell_type": "code",
   "execution_count": null,
   "metadata": {},
   "outputs": [],
   "source": [
    "import os\n",
    "os.environ['CUDA_VISIBLE_DEVICES'] = '0'\n",
    "from get_args import get_parser\n",
    "import torch\n",
    "from transformers import BertTokenizerFast\n",
    "from dataset import *\n",
    "from train import *\n",
    "from model import *\n",
    "import random\n",
    "import numpy as np\n",
    "import torch.nn as nn"
   ]
  },
  {
   "cell_type": "code",
   "execution_count": null,
   "metadata": {},
   "outputs": [],
   "source": [
    "class Args:\n",
    "    model_name = 'hfl/chinese-roberta-wwm-ext'\n",
    "    max_length = 128\n",
    "    N = 15\n",
    "args = Args()"
   ]
  },
  {
   "cell_type": "code",
   "execution_count": null,
   "metadata": {},
   "outputs": [],
   "source": [
    "model = LRBModel.from_pretrained(args.model_name, num_labels=2,max_length = args.max_length)\n",
    "model.load_state_dict(torch.load('./ckpts/lrb_epoch_1.pt'))\n",
    "device = torch.device(\"cuda\" if torch.cuda.is_available() else \"cpu\")\n",
    "model.to(device)"
   ]
  },
  {
   "cell_type": "code",
   "execution_count": null,
   "metadata": {},
   "outputs": [],
   "source": [
    "sent = '机器学习是一种很牛逼的方法。'\n",
    "sents = [list(sent),]\n",
    "tk = BertTokenizerFast.from_pretrained(args.model_name)\n",
    "inp = tk(\n",
    "    sents,\n",
    "    padding='max_length',\n",
    "    truncation=True,\n",
    "    max_length=args.max_length,\n",
    "    is_split_into_words=True,\n",
    "    return_tensors='pt'\n",
    ")\n",
    "# inp\n",
    "b_input_ids = inp['input_ids'].to(device)\n",
    "b_input_mask = inp['attention_mask'].to(device)\n",
    "\n",
    "outputs = model(input_ids=b_input_ids,\n",
    "                attention_mask=b_input_mask,\n",
    "                labels=None)\n",
    "bs,seqlen,hs = outputs[0].shape\n",
    "logits = outputs[0].detach().cpu().numpy().argmax(axis=-1).reshape(bs,2,seqlen//2)\n",
    "extracted_terms = []\n",
    "for logit,sent in zip(logits,sents):\n",
    "    sent_len = min(len(sent),args.max_length-2)\n",
    "    sent_ngram_idxes = get_ngram_idxes(args.N,sent_len)\n",
    "    for i,j in sent_ngram_idxes:\n",
    "        if logit[0,i]==1 and logit[1,j+1]==1:\n",
    "            extracted_terms.append(''.join(sent[i:j+1]))\n",
    "extracted_terms"
   ]
  },
  {
   "cell_type": "code",
   "execution_count": null,
   "metadata": {},
   "outputs": [],
   "source": [
    "tmp = [1,2]\n",
    "newt = tmp+ [0]*-1\n",
    "newt"
   ]
  },
  {
   "cell_type": "code",
   "execution_count": null,
   "metadata": {},
   "outputs": [],
   "source": [
    "get_ngram_idxes(3,5)"
   ]
  },
  {
   "cell_type": "code",
   "execution_count": 1,
   "metadata": {},
   "outputs": [
    {
     "data": {
      "text/plain": [
       "4.491598360655737"
      ]
     },
     "execution_count": 1,
     "metadata": {},
     "output_type": "execute_result"
    }
   ],
   "source": [
    "recall = 2.3\n",
    "precision = 95.3\n",
    "f1 = 2*recall*precision/(recall+precision)\n",
    "f1"
   ]
  }
 ],
 "metadata": {
  "kernelspec": {
   "display_name": "Python 3.9.12 ('base')",
   "language": "python",
   "name": "python3"
  },
  "language_info": {
   "codemirror_mode": {
    "name": "ipython",
    "version": 3
   },
   "file_extension": ".py",
   "mimetype": "text/x-python",
   "name": "python",
   "nbconvert_exporter": "python",
   "pygments_lexer": "ipython3",
   "version": "3.9.12"
  },
  "orig_nbformat": 4,
  "vscode": {
   "interpreter": {
    "hash": "e2f12ee792ee2aa305b6d1098f116bd99921cc7cffadcaa025bbef97522db743"
   }
  }
 },
 "nbformat": 4,
 "nbformat_minor": 2
}

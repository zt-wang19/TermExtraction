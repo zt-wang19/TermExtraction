{
 "cells": [
  {
   "cell_type": "code",
   "execution_count": null,
   "metadata": {},
   "outputs": [],
   "source": [
    "import os\n",
    "os.environ['CUDA_VISIBLE_DEVICES'] = '5'\n",
    "from get_args import get_parser\n",
    "import torch\n",
    "from transformers import BertTokenizerFast\n",
    "from dataset import *\n",
    "from train import *\n",
    "from model import *\n",
    "import random\n",
    "import numpy as np\n",
    "import torch.nn as nn"
   ]
  },
  {
   "cell_type": "code",
   "execution_count": null,
   "metadata": {},
   "outputs": [],
   "source": [
    "class Args:\n",
    "    model_name = 'hfl/chinese-roberta-wwm-ext'\n",
    "    max_length = 128\n",
    "args = Args()"
   ]
  },
  {
   "cell_type": "code",
   "execution_count": null,
   "metadata": {},
   "outputs": [],
   "source": [
    "model = NERThreeModel.from_pretrained(args.model_name, num_labels=len(id2label),max_length=args.max_length)\n",
    "model.load_state_dict(torch.load('./ckpts/ner3_epoch_3.pt'))\n",
    "# model = nn.DataParallel(model)\n",
    "device = torch.device(\"cuda\" if torch.cuda.is_available() else \"cpu\")\n",
    "model.to(device)"
   ]
  },
  {
   "cell_type": "code",
   "execution_count": 6,
   "metadata": {},
   "outputs": [
    {
     "data": {
      "text/plain": [
       "['机器学习']"
      ]
     },
     "execution_count": 6,
     "metadata": {},
     "output_type": "execute_result"
    }
   ],
   "source": [
    "sent = '机器学习是一种很牛逼的方法。'\n",
    "tk = BertTokenizerFast.from_pretrained(args.model_name)\n",
    "inp = tk(\n",
    "    [list(sent),],\n",
    "    padding='max_length',\n",
    "    truncation=True,\n",
    "    max_length=args.max_length,\n",
    "    is_split_into_words=True,\n",
    "    return_tensors='pt'\n",
    ")\n",
    "# inp\n",
    "b_input_ids = inp['input_ids'].to(device)\n",
    "b_input_mask = inp['attention_mask'].to(device)\n",
    "\n",
    "output = model(input_ids=b_input_ids,\n",
    "                attention_mask=b_input_mask,\n",
    "                labels=None)[0]\n",
    "output = torch.argmax(output,dim=-1).cpu().numpy()\n",
    "extracted_terms = []\n",
    "output = output[0]\n",
    "range_len = len(output)\n",
    "output = [id2label[i] for i in output]\n",
    "# for \n",
    "# print(output)\n",
    "term = ''\n",
    "previous = None\n",
    "for i in range(range_len):\n",
    "    \n",
    "    if i > len(sent):\n",
    "        break\n",
    "    # print(sent[i],output[i])\n",
    "    if output[i] == 'O':\n",
    "        pass\n",
    "    elif output[i] == 'B':\n",
    "        term = sent[i]\n",
    "    elif output[i] == 'I':\n",
    "        if previous=='B' or previous=='I':\n",
    "            term += sent[i]\n",
    "    elif output[i] == 'E':\n",
    "        if previous=='B' or previous=='I':\n",
    "            term += sent[i]\n",
    "        extracted_terms.append(term)\n",
    "    elif output[i] == 'S':\n",
    "        extracted_terms.append(sent[i])\n",
    "\n",
    "    previous = output[i]\n",
    "extracted_terms"
   ]
  }
 ],
 "metadata": {
  "kernelspec": {
   "display_name": "Python 3.9.12 ('base')",
   "language": "python",
   "name": "python3"
  },
  "language_info": {
   "codemirror_mode": {
    "name": "ipython",
    "version": 3
   },
   "file_extension": ".py",
   "mimetype": "text/x-python",
   "name": "python",
   "nbconvert_exporter": "python",
   "pygments_lexer": "ipython3",
   "version": "3.9.12"
  },
  "orig_nbformat": 4,
  "vscode": {
   "interpreter": {
    "hash": "e2f12ee792ee2aa305b6d1098f116bd99921cc7cffadcaa025bbef97522db743"
   }
  }
 },
 "nbformat": 4,
 "nbformat_minor": 2
}
